{
 "cells": [
  {
   "cell_type": "code",
   "execution_count": 1,
   "id": "05d2a3d0",
   "metadata": {},
   "outputs": [],
   "source": [
    "import math\n",
    "import random as rn\n",
    "import warnings\n",
    "import random\n",
    "import pandas as pd\n",
    "from sklearn.metrics.pairwise import cosine_similarity\n",
    "from sklearn import preprocessing\n",
    "\n",
    "pd.options.mode.chained_assignment = None\n",
    "warnings.filterwarnings('ignore')\n",
    "\n",
    "gen = pd.read_csv(f'D:/music_genres/dataset/archive/Data/features_30_sec.csv')\n",
    "\n",
    "\n",
    "# Klasa do przetwarzania danych\n",
    "class DataProcessing:\n",
    "    @staticmethod\n",
    "    def shuffle(x):\n",
    "        for i in range(len(x) - 1, 0, -1):\n",
    "            j = rn.randint(0, i - 1)\n",
    "            x.iloc[i], x.iloc[j] = x.iloc[j], x.iloc[i]\n",
    "\n",
    "    @staticmethod\n",
    "    def min_max_scaling(x):\n",
    "        values = x.select_dtypes(exclude=[\"object\", \"string\"])\n",
    "        columnNames = values.columns.tolist()\n",
    "        for column in columnNames:\n",
    "            x[column] = pd.to_numeric(x[column])\n",
    "            data = x.loc[:, column]\n",
    "            min1 = min(data)\n",
    "            max1 = max(data)\n",
    "            for row in range(len(x)):\n",
    "                xprim = (x.at[row, column] - min1) / (max1 - min1)\n",
    "                x.at[row, column] = xprim\n",
    "\n",
    "    @staticmethod\n",
    "    def split(x, train_ratio, val_ratio):\n",
    "        train_size = int(len(x) * train_ratio)\n",
    "        val_size = int(len(x) * val_ratio)\n",
    "\n",
    "        tr_set = x[:train_size]\n",
    "        va_set = x[train_size:train_size + val_size]\n",
    "        te_set = x[train_size + val_size:]\n",
    "\n",
    "        return tr_set, va_set, te_set\n",
    "\n",
    "    @staticmethod\n",
    "    def find_similar_songs(name, label, number):\n",
    "        data = pd.read_csv(f'D:/music_genres/dataset/archive/Data/features_30_sec.csv', index_col='filename')\n",
    "\n",
    "        # Wyodrębnienie label-a\n",
    "        labels = data[['label']]\n",
    "\n",
    "        # Usuwanie label-a z pierwotnej ramki danych\n",
    "        data = data.drop(columns=['length', 'label'])\n",
    "\n",
    "        # Skalowanie danych\n",
    "        data_scaled = preprocessing.scale(data)\n",
    "\n",
    "        # Podobieństwo kosinusowe\n",
    "        similarity = cosine_similarity(data_scaled)\n",
    "\n",
    "        # Konwersja na ramkę danych\n",
    "        sim_df_labels = pd.DataFrame(similarity)\n",
    "        sim_df_names = sim_df_labels.set_index(labels.index)\n",
    "        sim_df_names.columns = labels.index\n",
    "        \n",
    "        #Znajdowanie utworów najbardziej podobnych do innego utworu\n",
    "        series = sim_df_names[name].sort_values(ascending=False)\n",
    "\n",
    "        # Usuwanie podobieństwa kosinusowego == 1\n",
    "        series = series.drop(name)\n",
    "\n",
    "        # Filtracja serie na podstawie label-a\n",
    "        series = series[series.index.str.startswith(label)]\n",
    "\n",
    "        # Wyświetlanie „n” najlepszych dopasowań\n",
    "        print(\"\\n*******\\nSimilar songs to\", name)\n",
    "        print(series.head(number))\n",
    "\n",
    "\n",
    "# Klasa do KNN\n",
    "class KNN:\n",
    "    def __init__(self, k):\n",
    "        self.k = k\n",
    "\n",
    "    def clustering(self, lista, sample):\n",
    "        distances = []\n",
    "        for i in range(len(lista)):\n",
    "            temp = 0\n",
    "            for j in range(len(sample)):\n",
    "                temp += pow((lista.iloc[i][j] - sample[j]), 2)\n",
    "            distances.append(math.sqrt(temp))\n",
    "        lista[\"distance\"] = distances\n",
    "        lista = lista.sort_values(\"distance\")\n",
    "        dictionary = dict()\n",
    "        dictionary1 = {\"blues\": 0, \"classical\": 0, \"country\": 0, \"disco\": 0, \"hiphop\": 0, \"jazz\": 0, \"metal\": 0,\n",
    "                       \"pop\": 0, \"reggae\": 0, \"rock\": 0}\n",
    "        for i in range(self.k):\n",
    "            dictionary1[lista.iloc[i][\"label\"]] += 1\n",
    "        return max(dictionary1, key=dictionary1.get)\n",
    "\n",
    "    def knn_predict(self, lista, lista_t):\n",
    "        pred = []\n",
    "        for i in range(len(lista_t)):\n",
    "            name = self.clustering(lista, pd.to_numeric(lista_t.iloc[i]))\n",
    "            pred.append(name)\n",
    "        return pred\n",
    "\n",
    "    def accuracy(self, prediction, lista_v):\n",
    "        counter = 0\n",
    "        for i in range(len(lista_v)):\n",
    "            if prediction[i] == lista_v.iloc[i]:\n",
    "                counter += 1\n",
    "        return (counter / len(lista_v)) * 100"
   ]
  },
  {
   "cell_type": "code",
   "execution_count": 2,
   "id": "1170aadd",
   "metadata": {
    "scrolled": true
   },
   "outputs": [
    {
     "name": "stdout",
     "output_type": "stream",
     "text": [
      "Shuffled\n"
     ]
    }
   ],
   "source": [
    "# Tasowanie zbioru danych\n",
    "DataProcessing.shuffle(gen)\n",
    "print(\"Shuffled\")"
   ]
  },
  {
   "cell_type": "code",
   "execution_count": 3,
   "id": "a14b1a06",
   "metadata": {},
   "outputs": [
    {
     "name": "stdout",
     "output_type": "stream",
     "text": [
      "Split\n"
     ]
    }
   ],
   "source": [
    "# Podział\n",
    "train_set, test_set, _ = DataProcessing.split(gen, 0.8, 0.2)\n",
    "print(\"Split\")"
   ]
  },
  {
   "cell_type": "code",
   "execution_count": 4,
   "id": "be8d3889",
   "metadata": {},
   "outputs": [
    {
     "name": "stdout",
     "output_type": "stream",
     "text": [
      "Normalized\n"
     ]
    }
   ],
   "source": [
    "# Normalizacja zbiorów\n",
    "DataProcessing.min_max_scaling(train_set)\n",
    "test_set = test_set.reset_index(drop=True)\n",
    "DataProcessing.min_max_scaling(test_set)\n",
    "print(\"Normalized\")"
   ]
  },
  {
   "cell_type": "code",
   "execution_count": 5,
   "id": "56025e65",
   "metadata": {},
   "outputs": [
    {
     "name": "stdout",
     "output_type": "stream",
     "text": [
      "Features dropped\n"
     ]
    }
   ],
   "source": [
    "# Usuwanie cech, które negatywnie wpływają na dokładność\n",
    "features_list = [\n",
    "    'chroma_stft_var',\n",
    "    'rms_var',\n",
    "    'spectral_centroid_var',\n",
    "    'spectral_bandwidth_var',\n",
    "    'rolloff_var',\n",
    "    'zero_crossing_rate_var',\n",
    "    'harmony_var',\n",
    "    'perceptr_var',\n",
    "    'perceptr_mean'\n",
    "]\n",
    "for feature in features_list:\n",
    "    train_set = train_set.drop(feature, axis=1)\n",
    "    test_set = test_set.drop(feature, axis=1)\n",
    "print(\"Features dropped\")"
   ]
  },
  {
   "cell_type": "code",
   "execution_count": 6,
   "id": "254229e9",
   "metadata": {},
   "outputs": [
    {
     "name": "stdout",
     "output_type": "stream",
     "text": [
      "Accuracy: 74.0, k=5\n"
     ]
    }
   ],
   "source": [
    "# Wykonanie algorytmu KNN i wyświetlenie dokładności (można wykonać dla wielu wartości k)\n",
    "k = [5]\n",
    "predicted = []\n",
    "for i in k:\n",
    "    knn = KNN(k=i)\n",
    "    predicted = knn.knn_predict(train_set.drop(['filename'], axis=1), test_set.drop(['filename', 'label'], axis=1))\n",
    "    accuracy = knn.accuracy(predicted, test_set['label'])\n",
    "    print(f\"Accuracy: {accuracy}, k={i}\")"
   ]
  },
  {
   "cell_type": "code",
   "execution_count": 7,
   "id": "22285bc8",
   "metadata": {},
   "outputs": [],
   "source": [
    "# Wybór losowego wpisu z nazwą pliku rozpoczynającą się od \"X\"\n",
    "rock_entries = test_set[test_set['filename'].str.startswith('rock')]\n",
    "random_entry_index = random.choice(rock_entries.index)"
   ]
  },
  {
   "cell_type": "code",
   "execution_count": 8,
   "id": "8e7cedc5",
   "metadata": {},
   "outputs": [],
   "source": [
    "# Pobranie nazwy pliku i odpowiedniego label-a\n",
    "filename = test_set.loc[random_entry_index, 'filename']\n",
    "predicted_label = predicted[random_entry_index]\n",
    "actual_label = test_set.loc[random_entry_index, 'label']"
   ]
  },
  {
   "cell_type": "code",
   "execution_count": 9,
   "id": "66724d08",
   "metadata": {},
   "outputs": [
    {
     "name": "stdout",
     "output_type": "stream",
     "text": [
      "Random entry:\n",
      "Filename: rock.00020.wav\n",
      "Predicted Label: rock\n",
      "Actual Label: rock\n"
     ]
    }
   ],
   "source": [
    "# Wyświetlenie wyników\n",
    "print(\"Random entry:\")\n",
    "print(\"Filename:\", filename)\n",
    "print(\"Predicted Label:\", predicted_label)\n",
    "print(\"Actual Label:\", actual_label)"
   ]
  },
  {
   "cell_type": "code",
   "execution_count": 10,
   "id": "974f0ecb",
   "metadata": {},
   "outputs": [
    {
     "name": "stdout",
     "output_type": "stream",
     "text": [
      "\n",
      "*******\n",
      "Similar songs to rock.00020.wav\n",
      "filename\n",
      "rock.00024.wav    0.914190\n",
      "rock.00026.wav    0.910803\n",
      "rock.00017.wav    0.874609\n",
      "Name: rock.00020.wav, dtype: float64\n"
     ]
    }
   ],
   "source": [
    "# Znajdowanie podobnych utworów\n",
    "DataProcessing.find_similar_songs(filename, predicted_label, 3)"
   ]
  }
 ],
 "metadata": {
  "kernelspec": {
   "display_name": "Python 3 (ipykernel)",
   "language": "python",
   "name": "python3"
  },
  "language_info": {
   "codemirror_mode": {
    "name": "ipython",
    "version": 3
   },
   "file_extension": ".py",
   "mimetype": "text/x-python",
   "name": "python",
   "nbconvert_exporter": "python",
   "pygments_lexer": "ipython3",
   "version": "3.10.9"
  }
 },
 "nbformat": 4,
 "nbformat_minor": 5
}
